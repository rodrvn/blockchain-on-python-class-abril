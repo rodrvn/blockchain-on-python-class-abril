{
 "cells": [
  {
   "attachments": {},
   "cell_type": "markdown",
   "metadata": {},
   "source": [
    "# Prueba Tecnica - Penguin Academy"
   ]
  },
  {
   "attachments": {},
   "cell_type": "markdown",
   "metadata": {},
   "source": [
    "## Ejercicio 1 \n",
    "### Escribir una función que tome un número entero positivo y devuelva el número de Collatz de ese número, es decir, la cantidad de veces que se aplica la siguiente operación hasta llegar a 1: si el número es par, se divide por 2; si el número es impar, se multiplica por 3 y se suma 1. Por ejemplo, el número de Collatz de 7 es 16, ya que se tiene la siguiente secuencia: 7 → 22 → 11 → 34 → 17 → 52 → 26 → 13 → 40 → 20 → 10 → 5 → 16 → 8 → 4 → 2 → 1."
   ]
  },
  {
   "cell_type": "code",
   "execution_count": null,
   "metadata": {},
   "outputs": [],
   "source": []
  },
  {
   "attachments": {},
   "cell_type": "markdown",
   "metadata": {},
   "source": [
    "## Ejercicio 2\n",
    "### Escribir una función que tome una lista de palabras y devuelva un diccionario cuyas claves sean las palabras de la lista y cuyos valores sean las listas de palabras que rimen con la clave. Por ejemplo, si la lista original es [\"gato\", \"perro\", \"pato\", \"ratón\", \"elefante\"], el diccionario resultante sería {\"gato\": [\"rato\"], \"perro\": [\"cerdo\"], \"pato\": [\"gato\"], \"ratón\": [], \"elefante\": []}."
   ]
  },
  {
   "cell_type": "code",
   "execution_count": null,
   "metadata": {},
   "outputs": [],
   "source": []
  },
  {
   "attachments": {},
   "cell_type": "markdown",
   "metadata": {},
   "source": [
    "## Ejercicio 3\n",
    "### Escribir una función que tome un número entero positivo y devuelva el número de números perfectos menores o iguales al número dado. Un número es perfecto si es igual a la suma de sus divisores propios, es decir, la suma de los números positivos que dividen al número sin incluir al propio número. Por ejemplo, 6 es un número perfecto, ya que sus divisores propios son 1, 2 y 3, y 1 + 2 + 3 = 6."
   ]
  },
  {
   "cell_type": "code",
   "execution_count": null,
   "metadata": {},
   "outputs": [],
   "source": []
  }
 ],
 "metadata": {
  "language_info": {
   "name": "python"
  },
  "orig_nbformat": 4
 },
 "nbformat": 4,
 "nbformat_minor": 2
}
