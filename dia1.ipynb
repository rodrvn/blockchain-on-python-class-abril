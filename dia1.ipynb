{
 "cells": [
  {
   "attachments": {},
   "cell_type": "markdown",
   "metadata": {},
   "source": [
    "## Crear un bloque\n"
   ]
  },
  {
   "cell_type": "code",
   "execution_count": 16,
   "metadata": {},
   "outputs": [
    {
     "name": "stdout",
     "output_type": "stream",
     "text": [
      "{'index': 1, 'transacciones': 'Hola, soy una transaccion', 'timestamp': '2023-03-10 10:49:29.459260'}\n"
     ]
    }
   ],
   "source": [
    "from datetime import datetime\n",
    "# guardamos la funcion datetime.today dentro de una variable que se llame tiempo\n",
    "tiempo = str(datetime.today())\n",
    "\n",
    "# Creamos un objeto llamado bloque\n",
    "class Bloque:\n",
    "\n",
    "    #Atribuimos index, transacciones y timestamp\n",
    "    def __init__(self, index, transacciones, timestamp):\n",
    "        self.index = index\n",
    "        self.transacciones = transacciones\n",
    "        self.timestamp = timestamp\n",
    "\n",
    "\n",
    "\n",
    "# Instanciamos bloque\n",
    "\n",
    "bloque = Bloque(1, \"Hola, soy una transaccion\", tiempo)\n",
    "\n",
    "# Usamos dict para transformar un objeto a diccionario\n",
    "print(bloque.__dict__)"
   ]
  },
  {
   "attachments": {},
   "cell_type": "markdown",
   "metadata": {},
   "source": [
    "### Challenge 1\n",
    "\n",
    "Crear un objeto Bloque que contenga:\n",
    "\n",
    "- Index: un numero que indica el id del bloque\n",
    "- Transaccion: el dato que queremos almacenar (una frase)\n",
    "- Timestamp: el tiempo en el que se crea el bloque\n",
    "\n",
    "- Imprimir el bloque\n",
    "\n",
    "OBS: La transaccion debe ser una lista con 3 datos diferentes.\n"
   ]
  },
  {
   "cell_type": "code",
   "execution_count": 17,
   "metadata": {},
   "outputs": [
    {
     "name": "stdout",
     "output_type": "stream",
     "text": [
      "{'index': 1, 'transacciones': ['rodri to cristhian 10btc', 'receta', 'caja'], 'timestams': '2023-03-10 11:41:21.147101'}\n"
     ]
    }
   ],
   "source": [
    "from datetime import datetime\n",
    "tiempo = str(datetime.today())\n",
    "\n",
    "class Bloque():\n",
    "    def __init__(self, index, transacciones, timestamp):\n",
    "        self.index = index\n",
    "        self.transacciones = transacciones\n",
    "        self.timestams = timestamp\n",
    "\n",
    "\n",
    "datos = ['rodri to cristhian 10btc', 'receta', 'caja']\n",
    "\n",
    "bloque_penguin = Bloque(1, datos, tiempo)\n",
    "\n",
    "print(bloque_penguin.__dict__)"
   ]
  },
  {
   "attachments": {},
   "cell_type": "markdown",
   "metadata": {},
   "source": [
    "# Creando la Blockchain\n"
   ]
  },
  {
   "cell_type": "code",
   "execution_count": 19,
   "metadata": {},
   "outputs": [],
   "source": [
    "#importar el datetime\n",
    "from datetime import datetime\n",
    "\n",
    "tiempo = str(datetime.today())\n",
    "\n",
    "# Crear un objeto bloque\n",
    "class Bloque:\n",
    "    # Inicializamos con estos atributos\n",
    "    def __init__(self, index, transacciones, timestamp):\n",
    "        self.index = index\n",
    "        self.transacciones = transacciones\n",
    "        self.timestamp = timestamp\n",
    "\n",
    "# Crea un objeto blockchain\n",
    "class Blockchain:\n",
    "    # inicializar con los atributos\n",
    "    def __init__(self):\n",
    "        # Creamos una lista vacia para almacenar las transacciones pendientes\n",
    "        self.transacciones_pendientes = []\n",
    "        self.cadena = []\n",
    "\n",
    "        # creamos el bloque genesis\n",
    "        self.crear_bloque_genesis()\n",
    "\n",
    "\n",
    "    #Creamos el metodo para agregar bloque genesis\n",
    "    def crear_bloque_genesis(self):\n",
    "        #Instanciamos el bloque genesis\n",
    "        bloque_genesis = Bloque(0,[\"Bloque genesis\"], tiempo)\n",
    "\n",
    "        #Agrega el bloque genesis a la cadena\n",
    "        self.cadena.append(bloque_genesis)\n",
    "    \n",
    "    # para definir la propiedad del ultimo bloque\n",
    "    @property\n",
    "    def ultimo_bloque(self):\n",
    "        return self.cadena[-1]\n",
    "    \n",
    "    # nos permite agregar bloques a la cadena\n",
    "    def agregar_bloque(self, bloque):\n",
    "        self.cadena.append(bloque)\n",
    "        return True\n",
    "    \n",
    "    # agrega la transaccion\n",
    "    def agregar_transacciones(self, transaccion):\n",
    "        self.transacciones_pendientes.append(transaccion)\n",
    "\n",
    "    # cierre el bloque\n",
    "    def cerrar_bloque(self):\n",
    "        # Si no hay transacciones pendientes nos retorna False(falso)\n",
    "        if not self.transacciones_pendientes:\n",
    "            return False\n",
    "        \n",
    "        #traemos el ultimo bloque\n",
    "        ultimo_bloque = self.ultimo_bloque\n",
    "\n",
    "        #instanciamos el nuevo bloque\n",
    "        # index + 1 hace que se vaya sumando el index automaticamente\n",
    "        nuevo_bloque = Bloque(ultimo_bloque.index + 1, self.transacciones_pendientes, tiempo)\n",
    "\n",
    "        #Agregamos el bloque\n",
    "        self.agregar_bloque(nuevo_bloque)\n",
    "\n",
    "        #Vaciamos la lista de transacciones pendientes ya que migraron a la cadena\n",
    "        self.transacciones_pendientes = []\n",
    "\n",
    "        return nuevo_bloque.index"
   ]
  },
  {
   "cell_type": "code",
   "execution_count": 24,
   "metadata": {},
   "outputs": [
    {
     "name": "stdout",
     "output_type": "stream",
     "text": [
      "{'index': 0, 'transacciones': ['Bloque genesis'], 'timestamp': '2023-03-10 13:40:58.949263'}\n",
      "{'index': 1, 'transacciones': ['Rodri a Nati 20000 pengutoshis', 'rodri a lujar 0.000000000000000001 pengucoins'], 'timestamp': '2023-03-10 13:40:58.949263'}\n"
     ]
    }
   ],
   "source": [
    "# Instanciamos la blockchain\n",
    "pengucoin = Blockchain()\n",
    "\n",
    "# Agregamos 2 transacciones\n",
    "pengucoin.agregar_transacciones('Rodri a Nati 20000 pengutoshis')\n",
    "pengucoin.agregar_transacciones('rodri a lujar 0.000000000000000001 pengucoins')\n",
    "\n",
    "# Cerramos el bloque para agregar a la cadena\n",
    "pengucoin.cerrar_bloque()\n",
    "\n",
    "# Para ver la cadena:\n",
    "# Iterar la cadena para poder imprimir los bloques como diccionario, ya que son objetos\n",
    "\n",
    "for block in range(len(pengucoin.cadena)):\n",
    "    print(pengucoin.cadena[block].__dict__)\n",
    "\n"
   ]
  },
  {
   "attachments": {},
   "cell_type": "markdown",
   "metadata": {},
   "source": [
    "### Challenge 2\n",
    "\n",
    "Crear una blockchain donde el primer bloque debe almacenar tu nombre, el segundo bloque debe almacenar tu numero de telefono y el tercer bloque tu direccion. Imprimir la cadena cada vez que agregamos un bloque."
   ]
  },
  {
   "attachments": {},
   "cell_type": "markdown",
   "metadata": {},
   "source": [
    "## Challenge Allan 🌭"
   ]
  },
  {
   "cell_type": "code",
   "execution_count": 25,
   "metadata": {},
   "outputs": [
    {
     "name": "stdout",
     "output_type": "stream",
     "text": [
      "{'index': 0, 'transacciones': ['Bloque genesis'], 'timestamp': '2023-03-10 13:40:58.949263'}\n",
      "{'index': 1, 'transacciones': ['Allan'], 'timestamp': '2023-03-10 13:40:58.949263'}\n",
      "\n",
      "\n",
      "{'index': 0, 'transacciones': ['Bloque genesis'], 'timestamp': '2023-03-10 13:40:58.949263'}\n",
      "{'index': 1, 'transacciones': ['Allan'], 'timestamp': '2023-03-10 13:40:58.949263'}\n",
      "{'index': 2, 'transacciones': ['9234983'], 'timestamp': '2023-03-10 13:40:58.949263'}\n",
      "\n",
      "\n",
      "{'index': 0, 'transacciones': ['Bloque genesis'], 'timestamp': '2023-03-10 13:40:58.949263'}\n",
      "{'index': 1, 'transacciones': ['Allan'], 'timestamp': '2023-03-10 13:40:58.949263'}\n",
      "{'index': 2, 'transacciones': ['9234983'], 'timestamp': '2023-03-10 13:40:58.949263'}\n",
      "{'index': 3, 'transacciones': ['penguin hpuse'], 'timestamp': '2023-03-10 13:40:58.949263'}\n",
      "\n",
      "\n"
     ]
    }
   ],
   "source": [
    "#Creamos la blockchain\n",
    "info_usuario = Blockchain()\n",
    "\n",
    "#Creamos un iterador que nos ayude a repetir el proceso 3 veces\n",
    "for iterador in range(3):\n",
    "\n",
    "    #Creamos una lista donde esten los datos que queremos pedir para que itere con las preguntas\n",
    "    datos = [\"nombre y apellido\", \"numero de telefono\", \"direccion articular\"]\n",
    "   \n",
    "    #Pedimos los datos mediante un input\n",
    "    info_usuario.agregar_transacciones(input(f\"Ingrese su {datos[iterador]}: \"))\n",
    "    \n",
    "    #Cerramos el bloque\n",
    "    info_usuario.cerrar_bloque()\n",
    "    \n",
    "    #Imprimimos con la funcion dict\n",
    "    for bloque in range(len(info_usuario.cadena)):\n",
    "        print(info_usuario.cadena[bloque].__dict__)\n",
    "\n",
    "    #Agregamos un espacio para que sea pulcro\n",
    "    print(\"\\n\")"
   ]
  },
  {
   "attachments": {},
   "cell_type": "markdown",
   "metadata": {},
   "source": [
    "## Marcelo 🛞"
   ]
  },
  {
   "cell_type": "code",
   "execution_count": 26,
   "metadata": {},
   "outputs": [
    {
     "name": "stdout",
     "output_type": "stream",
     "text": [
      "{'index': 0, 'transacciones': ['Bloque genesis'], 'timestamp': '2023-03-10 13:40:58.949263'}\n",
      "{'index': 1, 'transacciones': ['Marce'], 'timestamp': '2023-03-10 13:40:58.949263'}\n",
      "{'index': 0, 'transacciones': ['Bloque genesis'], 'timestamp': '2023-03-10 13:40:58.949263'}\n",
      "{'index': 1, 'transacciones': ['Marce'], 'timestamp': '2023-03-10 13:40:58.949263'}\n",
      "{'index': 2, 'transacciones': ['0973123224'], 'timestamp': '2023-03-10 13:40:58.949263'}\n",
      "{'index': 0, 'transacciones': ['Bloque genesis'], 'timestamp': '2023-03-10 13:40:58.949263'}\n",
      "{'index': 1, 'transacciones': ['Marce'], 'timestamp': '2023-03-10 13:40:58.949263'}\n",
      "{'index': 2, 'transacciones': ['0973123224'], 'timestamp': '2023-03-10 13:40:58.949263'}\n",
      "{'index': 3, 'transacciones': ['cde'], 'timestamp': '2023-03-10 13:40:58.949263'}\n"
     ]
    }
   ],
   "source": [
    "pengucoin = Blockchain()\n",
    "\n",
    "for i in range(3):\n",
    "    #\n",
    "    pengucoin.agregar_transacciones(input(\"Agregue sus datos\"))\n",
    "    pengucoin.cerrar_bloque()\n",
    "    for block in range(len(pengucoin.cadena)):\n",
    "        print(pengucoin.cadena[block].__dict__)"
   ]
  }
 ],
 "metadata": {
  "kernelspec": {
   "display_name": "Python 3",
   "language": "python",
   "name": "python3"
  },
  "language_info": {
   "codemirror_mode": {
    "name": "ipython",
    "version": 3
   },
   "file_extension": ".py",
   "mimetype": "text/x-python",
   "name": "python",
   "nbconvert_exporter": "python",
   "pygments_lexer": "ipython3",
   "version": "3.11.2"
  },
  "orig_nbformat": 4
 },
 "nbformat": 4,
 "nbformat_minor": 2
}
