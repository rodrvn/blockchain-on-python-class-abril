{
 "cells": [
  {
   "attachments": {},
   "cell_type": "markdown",
   "metadata": {},
   "source": [
    "# Dia 2 Blockchain on python"
   ]
  },
  {
   "attachments": {},
   "cell_type": "markdown",
   "metadata": {},
   "source": [
    "## Hash"
   ]
  },
  {
   "cell_type": "code",
   "execution_count": 4,
   "metadata": {},
   "outputs": [
    {
     "name": "stdout",
     "output_type": "stream",
     "text": [
      "7d68ad7800c76573d00215ed0ee24c3af4d58463a2ec0273aefda99c92c884b7\n"
     ]
    }
   ],
   "source": [
    "# importamos sha256\n",
    "from hashlib import sha256\n",
    "\n",
    "#creamos un mensaje\n",
    "mensaje = \"Hola pinguinos\"\n",
    "\n",
    "#Criptamos el mensaje\n",
    "mensaje_criptado = sha256(mensaje.encode()).hexdigest()\n",
    "print(mensaje_criptado)"
   ]
  },
  {
   "cell_type": "code",
   "execution_count": 5,
   "metadata": {},
   "outputs": [
    {
     "name": "stdout",
     "output_type": "stream",
     "text": [
      "c8d2974bf919dee398261a6ef7debebdb92820af0c9c01153de1be8659cc5250\n"
     ]
    }
   ],
   "source": [
    "#creamos un mensaje\n",
    "mensaje = \"hola pinguinos\"\n",
    "\n",
    "#Criptamos el mensaje\n",
    "mensaje_criptado = sha256(mensaje.encode()).hexdigest()\n",
    "print(mensaje_criptado)"
   ]
  },
  {
   "cell_type": "code",
   "execution_count": 6,
   "metadata": {},
   "outputs": [
    {
     "name": "stdout",
     "output_type": "stream",
     "text": [
      "7d68ad7800c76573d00215ed0ee24c3af4d58463a2ec0273aefda99c92c884b7\n"
     ]
    }
   ],
   "source": [
    "#creamos un mensaje\n",
    "mensaje = \"Hola pinguinos\"\n",
    "\n",
    "#Criptamos el mensaje\n",
    "mensaje_criptado = sha256(mensaje.encode()).hexdigest()\n",
    "print(mensaje_criptado)"
   ]
  },
  {
   "attachments": {},
   "cell_type": "markdown",
   "metadata": {},
   "source": [
    "### Challenge 1 (15min)\n",
    "\n",
    "Crear una funcion que reciba una palabra y te devuelva el Hash de la palabra.\n",
    "Ejecuta 3 veces la funcion de la siguiente manera:\n",
    "- La primera con una palabra\n",
    "- La segunda con un caracter diferente\n",
    "- La tercera igual que la primera\n",
    "\n",
    "Imprimir cada palabra con su hash y comparar."
   ]
  },
  {
   "attachments": {},
   "cell_type": "markdown",
   "metadata": {},
   "source": [
    "## Challenge Jere"
   ]
  },
  {
   "cell_type": "code",
   "execution_count": 7,
   "metadata": {},
   "outputs": [
    {
     "name": "stdout",
     "output_type": "stream",
     "text": [
      "la palabra Pinguino encriptada es d8bc3a3579eec0f03d68eecc5249ba13b916324d9e3bd206e90d4bc8106d22f5\n",
      "la palabra pinguin encriptada es f5538dfab339f14dd4564c7a733475ed5a74e55a5b33cc8846f72520b2c4a6b1\n",
      "la palabra Pinguino encriptada es d8bc3a3579eec0f03d68eecc5249ba13b916324d9e3bd206e90d4bc8106d22f5\n"
     ]
    }
   ],
   "source": [
    "from hashlib import sha256\n",
    "\n",
    "def palabra_secreta():\n",
    "    palabra = input(\"escriba la palabra deseada\")\n",
    "    mensaje_criptado = sha256(palabra.encode()).hexdigest()\n",
    "    print(f\"la palabra {palabra} encriptada es {mensaje_criptado}\")\n",
    "\n",
    "for i in range(3):\n",
    "    palabra_secreta()"
   ]
  },
  {
   "cell_type": "markdown",
   "metadata": {},
   "source": [
    "## Challenge Gio"
   ]
  },
  {
   "cell_type": "code",
   "execution_count": 9,
   "metadata": {},
   "outputs": [
    {
     "name": "stdout",
     "output_type": "stream",
     "text": [
      "1\n",
      "hola\n",
      "b221d9dbb083a7f33428d7c2a3c3198ae925614d70210e28716ccaa7cd4ddb79\n",
      "2\n",
      "Hola mundo\n",
      "ca8f60b2cc7f05837d98b208b57fb6481553fc5f1219d59618fd025002a66f5c\n",
      "3\n",
      "hola\n",
      "b221d9dbb083a7f33428d7c2a3c3198ae925614d70210e28716ccaa7cd4ddb79\n"
     ]
    }
   ],
   "source": [
    "from hashlib import sha256\n",
    "\n",
    "\n",
    "for contador in range(3):\n",
    "    print(contador+1)\n",
    "    i2 = input(\"Ingrese la palabra a encriptar\")\n",
    "    print(i2)\n",
    "    mensaje_encriptado = (sha256(i2.encode()).hexdigest())\n",
    "    print(mensaje_encriptado)"
   ]
  },
  {
   "attachments": {},
   "cell_type": "markdown",
   "metadata": {},
   "source": [
    "## Implementando el hash en la blockchain"
   ]
  },
  {
   "cell_type": "code",
   "execution_count": 10,
   "metadata": {},
   "outputs": [],
   "source": [
    "#Importamos sha256\n",
    "from hashlib import sha256\n",
    "\n",
    "# Importamos json\n",
    "import json\n",
    "\n",
    "from datetime import datetime\n",
    "\n",
    "tiempo = str(datetime.today())\n",
    "\n",
    "class Bloque:\n",
    "    # Nuevo parametro que seria hash anterior\n",
    "    def __init__(self, index, transacciones, timestamp, hash_anterior):\n",
    "        self.index = index\n",
    "        self.transacciones = transacciones\n",
    "        self.timestamp = timestamp\n",
    "        # el bloque ahora va a necesitar el hash anterior\n",
    "        self.hash_anterior = hash_anterior\n",
    "\n",
    "class Blockchain:\n",
    "    def __init__(self):\n",
    "        self.transacciones_pendientes = []\n",
    "        self.cadena = []\n",
    "        self.crear_bloque_genesis()\n",
    "\n",
    "    # Agregar un hash cero al bloque genesis\n",
    "    def crear_bloque_genesis(self):\n",
    "        bloque_genesis = Bloque(0,[\"Bloque genesis\"], tiempo, '0')\n",
    "\n",
    "        self.cadena.append(bloque_genesis)\n",
    "    \n",
    "    @property\n",
    "    def ultimo_bloque(self):\n",
    "        return self.cadena[-1]\n",
    "    \n",
    "    # Agregamos el metodo criptar\n",
    "    @staticmethod\n",
    "    def criptar(bloque):\n",
    "        bloque_string = json.dumps(bloque.__dict__, sort_keys=True)\n",
    "        return sha256(bloque_string.encode()).hexdigest()\n",
    "\n",
    "    def agregar_bloque(self, bloque):\n",
    "        self.cadena.append(bloque)\n",
    "        return True\n",
    "    \n",
    "    def agregar_transacciones(self, transaccion):\n",
    "        self.transacciones_pendientes.append(transaccion)\n",
    "\n",
    "    def cerrar_bloque(self):\n",
    "        if not self.transacciones_pendientes:\n",
    "            return False\n",
    "        \n",
    "        ultimo_bloque = self.ultimo_bloque\n",
    "\n",
    "        # Llamamos a nuestra funcion criptar y criptamos el ultimo bloque\n",
    "        nuevo_bloque = Bloque(ultimo_bloque.index + 1, self.transacciones_pendientes, tiempo, self.criptar(ultimo_bloque))\n",
    "\n",
    "        self.agregar_bloque(nuevo_bloque)\n",
    "\n",
    "        self.transacciones_pendientes = []\n",
    "\n",
    "        return nuevo_bloque.index"
   ]
  },
  {
   "cell_type": "code",
   "execution_count": 16,
   "metadata": {},
   "outputs": [
    {
     "name": "stdout",
     "output_type": "stream",
     "text": [
      "Bloque 1\n",
      "{'index': 1, 'transacciones': ['1ra', '2da transaccion'], 'timestamp': '2023-03-13 14:38:49.598794', 'hash_anterior': '2723387d07fadfb9d0e000e4ea0a21c3dabe4fa88e15a1ded389ceb08fd9a0e7'}\n",
      "Hash del bloque\n",
      "ab96d4f4ffabea0f63c69e32892a4d844088bdde2f012e599a4e3ebc5b7306c8\n",
      "-------------\n",
      "{'index': 0, 'transacciones': ['Bloque genesis'], 'timestamp': '2023-03-13 14:38:49.598794', 'hash_anterior': '0'}\n",
      "{'index': 1, 'transacciones': ['1ra', '2da transaccion'], 'timestamp': '2023-03-13 14:38:49.598794', 'hash_anterior': '2723387d07fadfb9d0e000e4ea0a21c3dabe4fa88e15a1ded389ceb08fd9a0e7'}\n",
      "{'index': 2, 'transacciones': ['3ra transaccion'], 'timestamp': '2023-03-13 14:38:49.598794', 'hash_anterior': 'ab96d4f4ffabea0f63c69e32892a4d844088bdde2f012e599a4e3ebc5b7306c8'}\n"
     ]
    }
   ],
   "source": [
    "# Instanciamos el objeto blockchain\n",
    "\n",
    "pengucoin = Blockchain()\n",
    "\n",
    "# Agregamos 2 transacciones\n",
    "pengucoin.agregar_transacciones('1ra')\n",
    "pengucoin.agregar_transacciones('2da transaccion')\n",
    "# cerrar bloque\n",
    "pengucoin.cerrar_bloque()\n",
    "\n",
    "print('Bloque 1')\n",
    "print(pengucoin.cadena[1].__dict__)\n",
    "\n",
    "# Hasheamos el bloque e imprimos\n",
    "hash_del_bloque = pengucoin.criptar(pengucoin.cadena[1])\n",
    "print('Hash del bloque')\n",
    "print(hash_del_bloque)\n",
    "print('-------------')\n",
    "\n",
    "\n",
    "#Agregamos 3ra transaccion\n",
    "pengucoin.agregar_transacciones('3ra transaccion')\n",
    "pengucoin.cerrar_bloque()\n",
    "\n",
    "# Para imprimir la cadena\n",
    "for i in pengucoin.cadena:\n",
    "    print(i.__dict__)"
   ]
  },
  {
   "attachments": {},
   "cell_type": "markdown",
   "metadata": {},
   "source": [
    "# Proof of Work (Prueba de trabajo)"
   ]
  },
  {
   "attachments": {},
   "cell_type": "markdown",
   "metadata": {},
   "source": [
    "Para validar las transacciones y crear nuevos bloques utilizamos un algoritmo que se llama proof o work, el PoW se encarga de encontrar un numero aleatorio conocido como 'nonce'. El nonce es el unico dato que puede varia o que va cambiando dentro del bloque. El nonce se agrega al bkloque con la transacciones y luego se hashea para producir un valor hash que debe cumplir con ciertas caracteristicas segun la dificultad "
   ]
  },
  {
   "cell_type": "markdown",
   "metadata": {},
   "source": [
    "## Nonce"
   ]
  },
  {
   "attachments": {},
   "cell_type": "markdown",
   "metadata": {},
   "source": [
    "El objetivo del nonce en la blockchain es encontrar un valor hash del bloque que cumpla con una condición específica, también conocida como \"dificultad\" de la minería. El minero utiliza el nonce para generar diferentes valores de hash hasta que encuentre uno que cumpla con la dificultad requerida. El proceso de encontrar el valor hash correcto implica una gran cantidad de cálculos matemáticos y es lo que se conoce como minería de criptomonedas."
   ]
  },
  {
   "cell_type": "code",
   "execution_count": 22,
   "metadata": {},
   "outputs": [
    {
     "name": "stdout",
     "output_type": "stream",
     "text": [
      "True\n"
     ]
    }
   ],
   "source": [
    "mensaje = \"00000917241924asdfasdf\"\n",
    "print(mensaje.startswith('000'))"
   ]
  },
  {
   "attachments": {},
   "cell_type": "markdown",
   "metadata": {},
   "source": [
    "# Challenge \n",
    "- Aplicar el algoritmo de proof of work,\n",
    "- Que el nonce vaya aumentando hasta que el hash comience con 2 ceros"
   ]
  },
  {
   "cell_type": "code",
   "execution_count": 28,
   "metadata": {},
   "outputs": [
    {
     "name": "stdout",
     "output_type": "stream",
     "text": [
      "1\n",
      "2\n",
      "3\n"
     ]
    },
    {
     "data": {
      "text/plain": [
       "('0fa023075830d57037347c73220a9d055d14d109945c9ac12097356946c2b2e9', 3)"
      ]
     },
     "execution_count": 28,
     "metadata": {},
     "output_type": "execute_result"
    }
   ],
   "source": [
    "from hashlib import sha256\n",
    "#Escribimos el mensaje\n",
    "mensaje = 'Hola pinguinos'\n",
    "#encriptamos para ver el hash\n",
    "mensaje_hasheado = sha256(mensaje.encode()).hexdigest()\n",
    "#\n",
    "def prueba_de_trabajo(bloque, nonce):\n",
    "    dificultad = 1\n",
    "    bloque_criptado = sha256(bloque.encode()).hexdigest()\n",
    "\n",
    "# Loop que intenta diferentes valores de nonce hasta que encuentre un hash con ceros al inicio segun la dificultad\n",
    "    while not bloque_criptado.startswith('0'* dificultad):\n",
    "    # Incrementamos el nonce en cada iteración\n",
    "        nonce += 1\n",
    "\n",
    "        print(nonce)\n",
    "    # Calculamos el hash del mensaje con el nonce actual\n",
    "        bloque_criptado = sha256(f'{bloque}{nonce}'.encode()).hexdigest()\n",
    "    return bloque_criptado, nonce\n",
    "\n",
    "prueba_de_trabajo(mensaje, 0)"
   ]
  },
  {
   "attachments": {},
   "cell_type": "markdown",
   "metadata": {},
   "source": [
    "# Implementando el PoW y nonce en la blockchain"
   ]
  },
  {
   "cell_type": "code",
   "execution_count": null,
   "metadata": {},
   "outputs": [],
   "source": [
    "from hashlib import sha256\n",
    "\n",
    "import json\n",
    "\n",
    "from datetime import datetime\n",
    "tiempo = str(datetime.today())\n",
    "\n",
    "class Bloque:\n",
    "    #1er paso agregar nonce\n",
    "    def __init__(self, index, transacciones, timestamp, hash_anterior, nonce=0):\n",
    "        self.index = index\n",
    "        self.transacciones = transacciones\n",
    "        self.timestamp = timestamp\n",
    "        self.hash_anterior = hash_anterior\n",
    "        #Agregamos nonce\n",
    "        self.nonce = nonce\n",
    "    # paso 2 creamos una funcion que nos cripte un bloque\n",
    "    def criptador(self):\n",
    "        bloque_string = json.dumps(self.__dict__, sort_keys=True)\n",
    "\n",
    "        return sha256(bloque_string.encode()).hexdigest()\n",
    "\n",
    "class Blockchain:\n",
    "    def __init__(self):\n",
    "        self.transacciones_pendientes = []\n",
    "        self.cadena = []\n",
    "        self.crear_bloque_genesis()\n",
    "\n",
    "    #Paso 6\n",
    "\n",
    "    def crear_bloque_genesis(self):\n",
    "        bloque_genesis = Bloque(0,[\"Bloque genesis\"], tiempo, \"0\")\n",
    "\n",
    "        # Encriptamos el bloque genesis\n",
    "        bloque_genesis.hash = bloque_genesis.criptador()\n",
    "        \n",
    "        self.cadena.append(bloque_genesis)\n",
    "    \n",
    "    @property\n",
    "    def ultimo_bloque(self):\n",
    "        return self.cadena[-1]\n",
    "    \n",
    "    # Paso 3\n",
    "    #Agregamos la diicultad a nuestra Bc\n",
    "    dificultad = 2\n",
    "\n",
    "    #Creamos la funcion PoW(prueba de trabajo)\n",
    "    def prueba_de_trabajo(self, bloque):\n",
    "        #Comenzamos con el nonce en 0\n",
    "\n",
    "        bloque.nonce = 0\n",
    "\n",
    "        #criptamos el bloque para saber el hash\n",
    "        bloque_criptado = bloque.criptador()\n",
    "\n",
    "        # Comparar el hash del bloque segun el ajuste de la dificultad\n",
    "        while not bloque_criptado.startswith('0'* Blockchain.dificultad):\n",
    "            # vamos incrementano el nonce hasta que el hash comience con la cantiadd de ceros en la dificultad\n",
    "            bloque.nonce += 1\n",
    "\n",
    "            #Criptamos el bloque con el nuevo valor del nonce\n",
    "            bloque_criptado = bloque.criptador()\n",
    "\n",
    "        return bloque_criptado\n",
    "    \n",
    "    # Paso 4\n",
    "    def prueba_de_trabajo_es_validada(self, bloque, hash_del_bloque):\n",
    "        return(hash_del_bloque.startswith('0'* Blockchain.dificultad) and\n",
    "            hash_del_bloque == bloque.criptador())\n",
    "\n",
    "    # Paso 5\n",
    "    # agregar la validacion al agregar el bloque\n",
    "    def agregar_bloque(self, bloque, prueba):\n",
    "        #Traemos el hash anterior\n",
    "        hash_anterior = self.ultimo_bloque.hash\n",
    "        \n",
    "        #Si el hash es diferente al hash del bloque anterior nos devuelve False\n",
    "        if hash_anterior != bloque.hash_anterior:\n",
    "            return False\n",
    "\n",
    "        #Si no se valida que nos retorne falso tambien\n",
    "        if not self.prueba_de_trabajo_es_validada(bloque, prueba):\n",
    "            return False\n",
    "        \n",
    "        #Guardamos la prueba\n",
    "        bloque.hash = prueba\n",
    "        self.cadena.append(bloque)\n",
    "        return True\n",
    "    \n",
    "    def agregar_transacciones(self, transaccion):\n",
    "        self.transacciones_pendientes.append(transaccion)\n",
    "\n",
    "    # Paso 7\n",
    "    def cerrar_bloque(self):\n",
    "        if not self.transacciones_pendientes:\n",
    "            return False\n",
    "        \n",
    "        ultimo_bloque = self.ultimo_bloque\n",
    "\n",
    "        # definimos cada parametro y modificamos para que nos traiga el ultimo hash\n",
    "        nuevo_bloque = Bloque(ultimo_bloque.index + 1, transacciones=self.transacciones_pendientes, timestamp=tiempo, hash_anterior=ultimo_bloque.hash)\n",
    "\n",
    "        # Agregamos la prueba que hicimos anteriormente\n",
    "        prueba = self.prueba_de_trabajo(nuevo_bloque)\n",
    "        \n",
    "        # Al agregar el nuevo bloque tambien debe entregar la prueba\n",
    "        self.agregar_bloque(nuevo_bloque, prueba)\n",
    "        self.transacciones_pendientes = []\n",
    "        return nuevo_bloque.index"
   ]
  }
 ],
 "metadata": {
  "kernelspec": {
   "display_name": "Python 3",
   "language": "python",
   "name": "python3"
  },
  "language_info": {
   "codemirror_mode": {
    "name": "ipython",
    "version": 3
   },
   "file_extension": ".py",
   "mimetype": "text/x-python",
   "name": "python",
   "nbconvert_exporter": "python",
   "pygments_lexer": "ipython3",
   "version": "3.11.2"
  },
  "orig_nbformat": 4
 },
 "nbformat": 4,
 "nbformat_minor": 2
}
